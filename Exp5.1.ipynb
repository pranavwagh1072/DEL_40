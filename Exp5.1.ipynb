{
 "cells": [
  {
   "cell_type": "code",
   "execution_count": 1,
   "id": "41662484",
   "metadata": {},
   "outputs": [
    {
     "name": "stdout",
     "output_type": "stream",
     "text": [
      "Requirement already satisfied: requests in c:\\users\\pswag\\appdata\\local\\packages\\pythonsoftwarefoundation.python.3.11_qbz5n2kfra8p0\\localcache\\local-packages\\python311\\site-packages (2.32.4)\n",
      "Requirement already satisfied: pymongo in c:\\users\\pswag\\appdata\\local\\packages\\pythonsoftwarefoundation.python.3.11_qbz5n2kfra8p0\\localcache\\local-packages\\python311\\site-packages (4.14.1)\n",
      "Requirement already satisfied: pandas in c:\\users\\pswag\\appdata\\local\\packages\\pythonsoftwarefoundation.python.3.11_qbz5n2kfra8p0\\localcache\\local-packages\\python311\\site-packages (2.3.0)\n",
      "Requirement already satisfied: charset_normalizer<4,>=2 in c:\\users\\pswag\\appdata\\local\\packages\\pythonsoftwarefoundation.python.3.11_qbz5n2kfra8p0\\localcache\\local-packages\\python311\\site-packages (from requests) (3.4.2)\n",
      "Requirement already satisfied: idna<4,>=2.5 in c:\\users\\pswag\\appdata\\local\\packages\\pythonsoftwarefoundation.python.3.11_qbz5n2kfra8p0\\localcache\\local-packages\\python311\\site-packages (from requests) (3.10)\n",
      "Requirement already satisfied: urllib3<3,>=1.21.1 in c:\\users\\pswag\\appdata\\local\\packages\\pythonsoftwarefoundation.python.3.11_qbz5n2kfra8p0\\localcache\\local-packages\\python311\\site-packages (from requests) (2.5.0)\n",
      "Requirement already satisfied: certifi>=2017.4.17 in c:\\users\\pswag\\appdata\\local\\packages\\pythonsoftwarefoundation.python.3.11_qbz5n2kfra8p0\\localcache\\local-packages\\python311\\site-packages (from requests) (2025.6.15)\n",
      "Requirement already satisfied: dnspython<3.0.0,>=1.16.0 in c:\\users\\pswag\\appdata\\local\\packages\\pythonsoftwarefoundation.python.3.11_qbz5n2kfra8p0\\localcache\\local-packages\\python311\\site-packages (from pymongo) (2.8.0)\n",
      "Requirement already satisfied: numpy>=1.23.2 in c:\\users\\pswag\\appdata\\local\\packages\\pythonsoftwarefoundation.python.3.11_qbz5n2kfra8p0\\localcache\\local-packages\\python311\\site-packages (from pandas) (2.1.3)\n",
      "Requirement already satisfied: python-dateutil>=2.8.2 in c:\\users\\pswag\\appdata\\local\\packages\\pythonsoftwarefoundation.python.3.11_qbz5n2kfra8p0\\localcache\\local-packages\\python311\\site-packages (from pandas) (2.9.0.post0)\n",
      "Requirement already satisfied: pytz>=2020.1 in c:\\users\\pswag\\appdata\\local\\packages\\pythonsoftwarefoundation.python.3.11_qbz5n2kfra8p0\\localcache\\local-packages\\python311\\site-packages (from pandas) (2025.2)\n",
      "Requirement already satisfied: tzdata>=2022.7 in c:\\users\\pswag\\appdata\\local\\packages\\pythonsoftwarefoundation.python.3.11_qbz5n2kfra8p0\\localcache\\local-packages\\python311\\site-packages (from pandas) (2025.2)\n",
      "Requirement already satisfied: six>=1.5 in c:\\users\\pswag\\appdata\\local\\packages\\pythonsoftwarefoundation.python.3.11_qbz5n2kfra8p0\\localcache\\local-packages\\python311\\site-packages (from python-dateutil>=2.8.2->pandas) (1.17.0)\n",
      "Note: you may need to restart the kernel to use updated packages.\n"
     ]
    },
    {
     "name": "stderr",
     "output_type": "stream",
     "text": [
      "\n",
      "[notice] A new release of pip is available: 24.0 -> 25.2\n",
      "[notice] To update, run: C:\\Users\\pswag\\AppData\\Local\\Microsoft\\WindowsApps\\PythonSoftwareFoundation.Python.3.11_qbz5n2kfra8p0\\python.exe -m pip install --upgrade pip\n"
     ]
    }
   ],
   "source": [
    "pip install requests pymongo pandas"
   ]
  },
  {
   "cell_type": "code",
   "execution_count": 3,
   "id": "d00940a2",
   "metadata": {},
   "outputs": [],
   "source": [
    "import os\n",
    "from datetime import datetime, timezone\n",
    "import requests\n",
    "from pymongo import MongoClient, ASCENDING"
   ]
  },
  {
   "cell_type": "code",
   "execution_count": 4,
   "id": "efb37fea",
   "metadata": {},
   "outputs": [],
   "source": [
    "APIKEY = \"7bdaae7abc6622e671495ef02578a955\"  # Put your API key here\n",
    "MONGOURI = os.getenv(\"MONGOURI\", \"mongodb://127.0.0.1:27017/\")\n",
    "DBNAME = \"salesweatherinfodb\"\n",
    "WEATHERCOL = \"weather\"\n",
    "CITIES = [\"London\", \"Mumbai\", \"New York\", \"Tokyo\", \"Sydney\"]\n"
   ]
  },
  {
   "cell_type": "code",
   "execution_count": 7,
   "id": "8dee45a1",
   "metadata": {},
   "outputs": [],
   "source": [
    "def midnightutcnaive(dtutc):\n",
    "    # Return midnight (00:00:00) in UTC as a naive datetime (Mongo stores as UTC)\n",
    "    dtutc = dtutc.astimezone(timezone.utc)\n",
    "    return datetime(dtutc.year, dtutc.month, dtutc.day, 0, 0, 0, 0)\n"
   ]
  },
  {
   "cell_type": "code",
   "execution_count": 9,
   "id": "843c684b",
   "metadata": {},
   "outputs": [],
   "source": [
    "def ensureindexes(col):\n",
    "    # Idempotent if they already exist; MongoDB keeps them as-is.\n",
    "    col.create_index([(\"weatherdate\", ASCENDING), (\"city\", ASCENDING)], unique=True)\n",
    "    col.create_index([(\"city\", ASCENDING), (\"weatherdate\", ASCENDING)])"
   ]
  },
  {
   "cell_type": "code",
   "execution_count": 10,
   "id": "95fbd7c4",
   "metadata": {},
   "outputs": [],
   "source": [
    "def upsertweatherdoc(doc, col):\n",
    "    col.update_one(\n",
    "        {\"weatherdate\": doc[\"weatherdate\"], \"city\": doc[\"city\"]},\n",
    "        {\"$set\": doc},\n",
    "        upsert=True\n",
    "    )"
   ]
  },
  {
   "cell_type": "code",
   "execution_count": 16,
   "id": "3edf328e",
   "metadata": {},
   "outputs": [],
   "source": [
    "def fetchweatherlive(apikey, city):\n",
    "    url = \"https://api.openweathermap.org/data/2.5/weather\"\n",
    "    params = {\"q\": city, \"appid\": apikey.strip(), \"units\": \"metric\"}\n",
    "    try:\n",
    "        r = requests.get(url, params=params, timeout=20)\n",
    "    except requests.RequestException as e:\n",
    "        raise RuntimeError(f\"Network error calling OpenWeather: {e}\")\n",
    "\n",
    "    # Fail loud with the exact API message (401, 404, 429, etc.)\n",
    "    if not r.ok:\n",
    "        try:\n",
    "            msg = r.json()\n",
    "        except Exception:\n",
    "            msg = r.text\n",
    "        raise RuntimeError(f\"OpenWeather error {r.status_code}: {msg} url={r.url}\")\n",
    "\n",
    "    data = r.json()\n",
    "    return {\n",
    "        \"weatherdate\": datetime.now(timezone.utc).replace(hour=0, minute=0, second=0, microsecond=0),\n",
    "        \"city\": city,\n",
    "        \"tempc\": float(data[\"main\"][\"temp\"]),\n",
    "        \"humidity\": int(data[\"main\"][\"humidity\"]),\n",
    "        \"description\": str(data[\"weather\"][0][\"description\"]),\n",
    "        \"fetchedat\": datetime.now(timezone.utc),\n",
    "        \"source\": \"openweather\",\n",
    "    }"
   ]
  },
  {
   "cell_type": "code",
   "execution_count": 17,
   "id": "d600aa60",
   "metadata": {},
   "outputs": [
    {
     "name": "stdout",
     "output_type": "stream",
     "text": [
      "Stored live weather for London on 2025-09-21.\n",
      "Stored live weather for Mumbai on 2025-09-21.\n",
      "Stored live weather for New York on 2025-09-21.\n",
      "Stored live weather for Tokyo on 2025-09-21.\n",
      "Stored live weather for Sydney on 2025-09-21.\n"
     ]
    }
   ],
   "source": [
    "def main():\n",
    "    if not APIKEY or len(APIKEY.strip()) != 32:\n",
    "        raise ValueError(\"OPENWEATHER API key looks invalid. Expected 32 chars.\")\n",
    "    client = MongoClient(MONGOURI)\n",
    "    col = client[DBNAME][WEATHERCOL]\n",
    "    ensureindexes(col)  # Safe even if collection/index exists\n",
    "\n",
    "    for city in CITIES:\n",
    "        try:\n",
    "            doc = fetchweatherlive(APIKEY, city)\n",
    "            upsertweatherdoc(doc, col)\n",
    "            print(f\"Stored live weather for {doc['city']} on {doc['weatherdate'].date()}.\")\n",
    "        except Exception as e:\n",
    "            print(f\"Error for {city}: {e}\")\n",
    "\n",
    "if __name__ == \"__main__\":\n",
    "    main()"
   ]
  },
  {
   "cell_type": "code",
   "execution_count": 18,
   "id": "6c182687",
   "metadata": {},
   "outputs": [],
   "source": [
    "def city_daily_summary(col):\n",
    "    pipeline = [\n",
    "        {\"$group\": {\n",
    "            \"_id\": {\"city\": \"$city\", \"date\": \"$weatherdate\"},\n",
    "            \"min_temp\": {\"$min\": \"$tempc\"},\n",
    "            \"avg_temp\": {\"$avg\": \"$tempc\"},\n",
    "            \"max_temp\": {\"$max\": \"$tempc\"}\n",
    "        }},\n",
    "        {\"$sort\": {\"_id.city\": 1, \"_id.date\": 1}}\n",
    "    ]\n",
    "    return list(col.aggregate(pipeline))"
   ]
  },
  {
   "cell_type": "code",
   "execution_count": null,
   "id": "b11698a5",
   "metadata": {},
   "outputs": [],
   "source": []
  }
 ],
 "metadata": {
  "kernelspec": {
   "display_name": "Python 3",
   "language": "python",
   "name": "python3"
  },
  "language_info": {
   "codemirror_mode": {
    "name": "ipython",
    "version": 3
   },
   "file_extension": ".py",
   "mimetype": "text/x-python",
   "name": "python",
   "nbconvert_exporter": "python",
   "pygments_lexer": "ipython3",
   "version": "3.11.9"
  }
 },
 "nbformat": 4,
 "nbformat_minor": 5
}
