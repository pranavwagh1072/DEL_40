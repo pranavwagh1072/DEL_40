{
 "cells": [
  {
   "cell_type": "code",
   "execution_count": 1,
   "id": "73673d4f-9fc6-4452-963e-12a9fee3e49f",
   "metadata": {},
   "outputs": [
    {
     "name": "stdout",
     "output_type": "stream",
     "text": [
      "Requirement already satisfied: requests in c:\\users\\''\\appdata\\local\\programs\\python\\python39\\lib\\site-packages (2.32.5)\n",
      "Collecting pymongo\n",
      "  Downloading pymongo-4.14.1-cp39-cp39-win_amd64.whl (750 kB)\n",
      "Requirement already satisfied: pandas in c:\\users\\''\\appdata\\local\\programs\\python\\python39\\lib\\site-packages (2.3.2)\n",
      "Requirement already satisfied: charset_normalizer<4,>=2 in c:\\users\\''\\appdata\\local\\programs\\python\\python39\\lib\\site-packages (from requests) (3.4.3)\n",
      "Requirement already satisfied: idna<4,>=2.5 in c:\\users\\''\\appdata\\local\\programs\\python\\python39\\lib\\site-packages (from requests) (3.10)\n",
      "Requirement already satisfied: urllib3<3,>=1.21.1 in c:\\users\\''\\appdata\\local\\programs\\python\\python39\\lib\\site-packages (from requests) (2.5.0)\n",
      "Requirement already satisfied: certifi>=2017.4.17 in c:\\users\\''\\appdata\\local\\programs\\python\\python39\\lib\\site-packages (from requests) (2025.8.3)\n",
      "Collecting dnspython<3.0.0,>=1.16.0\n",
      "  Downloading dnspython-2.7.0-py3-none-any.whl (313 kB)\n",
      "Requirement already satisfied: python-dateutil>=2.8.2 in c:\\users\\''\\appdata\\roaming\\python\\python39\\site-packages (from pandas) (2.9.0.post0)\n",
      "Requirement already satisfied: pytz>=2020.1 in c:\\users\\''\\appdata\\local\\programs\\python\\python39\\lib\\site-packages (from pandas) (2025.2)\n",
      "Requirement already satisfied: numpy>=1.22.4; python_version < \"3.11\" in c:\\users\\''\\appdata\\local\\programs\\python\\python39\\lib\\site-packages (from pandas) (2.0.2)\n",
      "Requirement already satisfied: tzdata>=2022.7 in c:\\users\\''\\appdata\\local\\programs\\python\\python39\\lib\\site-packages (from pandas) (2025.2)\n",
      "Requirement already satisfied: six>=1.5 in c:\\users\\''\\appdata\\roaming\\python\\python39\\site-packages (from python-dateutil>=2.8.2->pandas) (1.17.0)\n",
      "Installing collected packages: dnspython, pymongo\n",
      "Successfully installed dnspython-2.7.0 pymongo-4.14.1\n",
      "Note: you may need to restart the kernel to use updated packages.\n"
     ]
    },
    {
     "name": "stderr",
     "output_type": "stream",
     "text": [
      "WARNING: You are using pip version 20.2.3; however, version 25.2 is available.\n",
      "You should consider upgrading via the 'c:\\Users\\''\\AppData\\Local\\Programs\\Python\\Python39\\python.exe -m pip install --upgrade pip' command.\n"
     ]
    }
   ],
   "source": [
    "pip install requests pymongo pandas"
   ]
  },
  {
   "cell_type": "code",
   "execution_count": 2,
   "id": "92c45aed-b9f3-4a9a-a336-4de9b42d982f",
   "metadata": {},
   "outputs": [],
   "source": [
    "# pip install requests pymongo\n",
    "\n",
    "import os\n",
    "from datetime import datetime, timezone\n",
    "import requests\n",
    "from pymongo import MongoClient, ASCENDING\n",
    "from datetime import datetime, timezone"
   ]
  },
  {
   "cell_type": "code",
   "execution_count": 12,
   "id": "92090aad-de68-4fa8-b709-59e09163e835",
   "metadata": {},
   "outputs": [],
   "source": [
    "# =======================\n",
    "# Config (live-only)\n",
    "# =======================\n",
    "API_KEY = \"7bdaae7abc6622e671495ef02578a955\"   # your real key\n",
    "CITY    = \"Loni Kalbhor\"\n",
    "\n",
    "MONGO_URI   = os.getenv(\"MONGO_URI\", \"mongodb://127.0.0.1:27017\")\n",
    "DB_NAME     = \"sales_weatherinfo_db\"\n",
    "WEATHER_COL = \"weather\"   # existing collection is fine"
   ]
  },
  {
   "cell_type": "code",
   "execution_count": 5,
   "id": "d4060083-6365-4951-9181-8ff25bcd6db1",
   "metadata": {},
   "outputs": [],
   "source": [
    "# =======================\n",
    "# Helpers\n",
    "# =======================\n",
    "def midnight_utc_naive(dt_utc: datetime) -> datetime:\n",
    "    \"\"\"Return midnight (00:00:00) in UTC as a naive datetime (Mongo stores as UTC).\"\"\"\n",
    "    dt_utc = dt_utc.astimezone(timezone.utc)\n",
    "    return datetime(dt_utc.year, dt_utc.month, dt_utc.day, 0, 0, 0, 0)"
   ]
  },
  {
   "cell_type": "code",
   "execution_count": 6,
   "id": "25c6e199-9307-479a-96b6-f07820c8f0f9",
   "metadata": {},
   "outputs": [],
   "source": [
    "def ensure_indexes(col):\n",
    "    # Idempotent; if they already exist, MongoDB keeps them as-is.\n",
    "    col.create_index([(\"weather_date\", ASCENDING), (\"city\", ASCENDING)], unique=True)\n",
    "    col.create_index([(\"city\", ASCENDING), (\"weather_date\", ASCENDING)])"
   ]
  },
  {
   "cell_type": "code",
   "execution_count": 7,
   "id": "b3cf8afc-6d68-4ea7-99a4-5f37e98fa605",
   "metadata": {},
   "outputs": [],
   "source": [
    "def upsert_weather(doc: dict, col):\n",
    "    col.update_one(\n",
    "        {\"weather_date\": doc[\"weather_date\"], \"city\": doc[\"city\"]},\n",
    "        {\"$set\": doc},\n",
    "        upsert=True\n",
    "    )"
   ]
  },
  {
   "cell_type": "code",
   "execution_count": 8,
   "id": "937ddb64-e8b7-4e29-9f51-1cfca0e979b3",
   "metadata": {},
   "outputs": [],
   "source": [
    "# =======================\n",
    "# Live fetch from OpenWeather (no fallback)\n",
    "# =======================\n",
    "def fetch_weather_live(api_key: str, city: str) -> dict:\n",
    "    url = \"https://api.openweathermap.org/data/2.5/weather\"\n",
    "    params = {\"q\": city, \"appid\": api_key.strip(), \"units\": \"metric\"}\n",
    "\n",
    "    try:\n",
    "        r = requests.get(url, params=params, timeout=20)\n",
    "    except requests.RequestException as e:\n",
    "        raise RuntimeError(f\"Network error calling OpenWeather: {e}\")\n",
    "\n",
    "    # Fail loud with the exact API message (401, 404, 429, etc.)\n",
    "    if not r.ok:\n",
    "        try:\n",
    "            msg = r.json()\n",
    "        except Exception:\n",
    "            msg = r.text\n",
    "        raise RuntimeError(f\"OpenWeather error {r.status_code}: {msg} | url={r.url}\")\n",
    "\n",
    "    data = r.json()\n",
    "    return {\n",
    "        \"weather_date\": datetime.now(timezone.utc).replace(hour=0, minute=0, second=0, microsecond=0),  # BSON Date at midnight UTC\n",
    "        \"city\": city,\n",
    "        \"temp_c\": float(data[\"main\"][\"temp\"]),\n",
    "        \"humidity\": int(data[\"main\"][\"humidity\"]),\n",
    "        \"description\": str(data[\"weather\"][0][\"description\"]),\n",
    "        \"fetched_at\": datetime.now(timezone.utc),  # full timestamp of fetch\n",
    "        \"source\": \"openweather\"\n",
    "    }"
   ]
  },
  {
   "cell_type": "code",
   "execution_count": 9,
   "id": "1d6d7f79-46d3-461b-a359-038f4df7e417",
   "metadata": {},
   "outputs": [],
   "source": [
    "# =======================\n",
    "# Main\n",
    "# =======================\n",
    "def main():\n",
    "    # Basic sanity check on key\n",
    "    if not API_KEY or len(API_KEY.strip()) != 32:\n",
    "        raise ValueError(\"OPENWEATHER API key looks invalid. Expected 32 chars.\")\n",
    "\n",
    "    client = MongoClient(MONGO_URI)\n",
    "    col = client[DB_NAME][WEATHER_COL]\n",
    "\n",
    "    ensure_indexes(col)          # safe even if collection/index exists\n",
    "    doc = fetch_weather_live(API_KEY, CITY)   # live-only; raises on error\n",
    "    upsert_weather(doc, col)\n",
    "\n",
    "    print(f\"Stored live weather for {doc['city']} on {doc['weather_date'].date()}.\")\n"
   ]
  },
  {
   "cell_type": "code",
   "execution_count": 14,
   "id": "ed5c9d4d-3d92-455e-84f1-46bd88b71161",
   "metadata": {},
   "outputs": [
    {
     "name": "stdout",
     "output_type": "stream",
     "text": [
      "Stored live weather for Loni Kalbhor on 2025-08-26.\n"
     ]
    }
   ],
   "source": [
    "if __name__ == \"__main__\":\n",
    "    main()"
   ]
  }
 ],
 "metadata": {
  "kernelspec": {
   "display_name": "Python 3",
   "language": "python",
   "name": "python3"
  },
  "language_info": {
   "codemirror_mode": {
    "name": "ipython",
    "version": 3
   },
   "file_extension": ".py",
   "mimetype": "text/x-python",
   "name": "python",
   "nbconvert_exporter": "python",
   "pygments_lexer": "ipython3",
   "version": "3.9.0"
  }
 },
 "nbformat": 4,
 "nbformat_minor": 5
}
