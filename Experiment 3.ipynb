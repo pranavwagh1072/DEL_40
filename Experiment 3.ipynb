{
 "cells": [
  {
   "cell_type": "code",
   "execution_count": 1,
   "id": "4a6dadf3-04eb-4c03-afef-75d3bdf69fbc",
   "metadata": {
    "collapsed": true,
    "jupyter": {
     "outputs_hidden": true
    }
   },
   "outputs": [
    {
     "name": "stdout",
     "output_type": "stream",
     "text": [
      "Collecting requests\n",
      "  Downloading requests-2.32.5-py3-none-any.whl (64 kB)\n",
      "Collecting pandas\n",
      "  Downloading pandas-2.3.2-cp39-cp39-win_amd64.whl (11.3 MB)\n",
      "Collecting sqlalchemy\n",
      "  Downloading sqlalchemy-2.0.43-cp39-cp39-win_amd64.whl (2.1 MB)\n",
      "Collecting idna<4,>=2.5\n",
      "  Downloading idna-3.10-py3-none-any.whl (70 kB)\n",
      "Collecting urllib3<3,>=1.21.1\n",
      "  Downloading urllib3-2.5.0-py3-none-any.whl (129 kB)\n",
      "Collecting certifi>=2017.4.17\n",
      "  Downloading certifi-2025.8.3-py3-none-any.whl (161 kB)\n",
      "Collecting charset_normalizer<4,>=2\n",
      "  Downloading charset_normalizer-3.4.3-cp39-cp39-win_amd64.whl (107 kB)\n",
      "Collecting pytz>=2020.1\n",
      "  Downloading pytz-2025.2-py2.py3-none-any.whl (509 kB)\n",
      "Collecting numpy>=1.22.4; python_version < \"3.11\"\n",
      "  Downloading numpy-2.0.2-cp39-cp39-win_amd64.whl (15.9 MB)\n",
      "Collecting tzdata>=2022.7\n",
      "  Downloading tzdata-2025.2-py2.py3-none-any.whl (347 kB)\n",
      "Requirement already satisfied: python-dateutil>=2.8.2 in c:\\users\\''\\appdata\\roaming\\python\\python39\\site-packages (from pandas) (2.9.0.post0)\n",
      "Collecting greenlet>=1; python_version < \"3.14\" and (platform_machine == \"aarch64\" or (platform_machine == \"ppc64le\" or (platform_machine == \"x86_64\" or (platform_machine == \"amd64\" or (platform_machine == \"AMD64\" or (platform_machine == \"win32\" or platform_machine == \"WIN32\"))))))\n",
      "  Downloading greenlet-3.2.4-cp39-cp39-win_amd64.whl (298 kB)\n",
      "Requirement already satisfied: typing-extensions>=4.6.0 in c:\\users\\''\\appdata\\roaming\\python\\python39\\site-packages (from sqlalchemy) (4.15.0)\n",
      "Requirement already satisfied: six>=1.5 in c:\\users\\''\\appdata\\roaming\\python\\python39\\site-packages (from python-dateutil>=2.8.2->pandas) (1.17.0)\n",
      "Installing collected packages: idna, urllib3, certifi, charset-normalizer, requests, pytz, numpy, tzdata, pandas, greenlet, sqlalchemy\n",
      "Successfully installed certifi-2025.8.3 charset-normalizer-3.4.3 greenlet-3.2.4 idna-3.10 numpy-2.0.2 pandas-2.3.2 pytz-2025.2 requests-2.32.5 sqlalchemy-2.0.43 tzdata-2025.2 urllib3-2.5.0\n",
      "Note: you may need to restart the kernel to use updated packages.\n"
     ]
    },
    {
     "name": "stderr",
     "output_type": "stream",
     "text": [
      "WARNING: You are using pip version 20.2.3; however, version 25.2 is available.\n",
      "You should consider upgrading via the 'c:\\Users\\''\\AppData\\Local\\Programs\\Python\\Python39\\python.exe -m pip install --upgrade pip' command.\n"
     ]
    }
   ],
   "source": [
    "pip install requests pandas sqlalchemy\n"
   ]
  },
  {
   "cell_type": "code",
   "execution_count": 2,
   "id": "c877f009-39b5-4fa4-ac82-3f06160018f6",
   "metadata": {
    "scrolled": true
   },
   "outputs": [
    {
     "name": "stdout",
     "output_type": "stream",
     "text": [
      "Collecting psycopg2-binary\n",
      "  Downloading psycopg2_binary-2.9.10-cp39-cp39-win_amd64.whl (1.2 MB)\n",
      "Installing collected packages: psycopg2-binary\n",
      "Successfully installed psycopg2-binary-2.9.10\n"
     ]
    },
    {
     "name": "stderr",
     "output_type": "stream",
     "text": [
      "WARNING: You are using pip version 20.2.3; however, version 25.2 is available.\n",
      "You should consider upgrading via the 'c:\\users\\''\\appdata\\local\\programs\\python\\python39\\python.exe -m pip install --upgrade pip' command.\n"
     ]
    }
   ],
   "source": [
    "# PostgreSQL\n",
    "!pip install psycopg2-binary"
   ]
  },
  {
   "cell_type": "code",
   "execution_count": 3,
   "id": "81dc086a-c1c1-4d47-8dda-3b52dac9b068",
   "metadata": {},
   "outputs": [
    {
     "name": "stdout",
     "output_type": "stream",
     "text": [
      "Collecting pymysql\n",
      "  Downloading pymysql-1.1.2-py3-none-any.whl (45 kB)\n",
      "Installing collected packages: pymysql\n",
      "Successfully installed pymysql-1.1.2\n"
     ]
    },
    {
     "name": "stderr",
     "output_type": "stream",
     "text": [
      "WARNING: You are using pip version 20.2.3; however, version 25.2 is available.\n",
      "You should consider upgrading via the 'c:\\users\\''\\appdata\\local\\programs\\python\\python39\\python.exe -m pip install --upgrade pip' command.\n"
     ]
    }
   ],
   "source": [
    "# MySQL\n",
    "!pip install pymysql"
   ]
  },
  {
   "cell_type": "code",
   "execution_count": 4,
   "id": "a7d26abd-2578-40bf-aa26-a3eba156edd3",
   "metadata": {},
   "outputs": [
    {
     "name": "stdout",
     "output_type": "stream",
     "text": [
      "Requirement already satisfied: psycopg2-binary in c:\\users\\''\\appdata\\local\\programs\\python\\python39\\lib\\site-packages (2.9.10)\n",
      "Note: you may need to restart the kernel to use updated packages.\n"
     ]
    },
    {
     "name": "stderr",
     "output_type": "stream",
     "text": [
      "WARNING: You are using pip version 20.2.3; however, version 25.2 is available.\n",
      "You should consider upgrading via the 'c:\\Users\\''\\AppData\\Local\\Programs\\Python\\Python39\\python.exe -m pip install --upgrade pip' command.\n"
     ]
    }
   ],
   "source": [
    "pip install --user psycopg2-binary"
   ]
  },
  {
   "cell_type": "code",
   "execution_count": 5,
   "id": "b2e106d5-0865-4e51-9ec2-7cfa6966ff0f",
   "metadata": {},
   "outputs": [],
   "source": [
    "import os\n",
    "import requests\n",
    "import pandas as pd\n",
    "from sqlalchemy import create_engine, text\n",
    "from urllib.parse import quote_plus\n",
    "from datetime import date"
   ]
  },
  {
   "cell_type": "code",
   "execution_count": 30,
   "id": "e495c1d6-11c8-4925-adce-7ff701f14ff3",
   "metadata": {},
   "outputs": [],
   "source": [
    "API_KEY = \"7bdaae7abc6622e671495ef02578a955\"   # your OpenWeather key\n",
    "CITY = \"Mehkar\"\n",
    "\n",
    "# MySQL connection settings\n",
    "USER = \"root\"\n",
    "PASSWORD = \"admin@123\"          # replace with your MySQL password\n",
    "HOST = \"127.0.0.1\"                 # use 127.0.0.1 instead of 'localhost'\n",
    "PORT = 3306\n",
    "DB   = \"sales_weatherinfo_db\"\n",
    "\n",
    "# Connection string (password is URL-encoded in case it has special chars)\n",
    "MYSQL_CONN_STRING = f\"mysql+pymysql://{USER}:{quote_plus(PASSWORD)}@{HOST}:{PORT}/{DB}\""
   ]
  },
  {
   "cell_type": "code",
   "execution_count": 13,
   "id": "4a7fb908-e904-4ecc-972f-5e1b7c02e275",
   "metadata": {},
   "outputs": [],
   "source": [
    "def fetch_weather(api_key: str, city: str) -> dict:\n",
    "    \"\"\"Fetch current weather from OpenWeather API.\"\"\"\n",
    "    url = \"https://api.openweathermap.org/data/2.5/weather\"\n",
    "    params = {\"q\": city, \"appid\": api_key.strip(), \"units\": \"metric\"}\n",
    "\n",
    "    r = requests.get(url, params=params, timeout=20)\n",
    "    if r.status_code != 200: #status_code = 200, returns success else error  \n",
    "        try:\n",
    "            print(\"OpenWeather error payload:\", r.json())\n",
    "        except Exception:\n",
    "            print(\"OpenWeather non-JSON response:\", r.text)\n",
    "        r.raise_for_status()\n",
    "\n",
    "    data = r.json()\n",
    "    return {\n",
    "        \"weather_date\": date.today(),\n",
    "        \"city\": city,\n",
    "        \"temp_c\": data[\"main\"][\"temp\"],\n",
    "        \"humidity\": data[\"main\"][\"humidity\"],\n",
    "        \"description\": data[\"weather\"][0][\"description\"],\n",
    "    }"
   ]
  },
  {
   "cell_type": "code",
   "execution_count": 14,
   "id": "9a07df20-1266-4712-9a8b-f9edd4ce9e83",
   "metadata": {},
   "outputs": [],
   "source": [
    "def ensure_weather_table(engine) -> None:\n",
    "    \"\"\"Create table if not exists in MySQL.\"\"\"\n",
    "    #ddl - data definition language in MYSQL, CRUD operations performed on database \n",
    "    ddl = \"\"\"\n",
    "    CREATE TABLE IF NOT EXISTS weather (\n",
    "        weather_date DATE NOT NULL,\n",
    "        city VARCHAR(100) NOT NULL,\n",
    "        temp_c DECIMAL(5,2),\n",
    "        humidity INT,\n",
    "        description VARCHAR(255)\n",
    "    )\n",
    "    \"\"\" \n",
    "    #connecting to mysql and uploading the data into mysql database\n",
    "    with engine.begin() as conn:\n",
    "        conn.execute(text(ddl))\n"
   ]
  },
  {
   "cell_type": "code",
   "execution_count": 15,
   "id": "58bb3d8b-2ced-4632-b5f0-880a53021532",
   "metadata": {},
   "outputs": [],
   "source": [
    "def store_weather_to_db(weather_data: dict, conn_string: str) -> None:\n",
    "    \"\"\"Insert weather data into MySQL.\"\"\"\n",
    "    engine = create_engine(conn_string, pool_pre_ping=True) #pool_pre_ping - to insert data into the table at every instances\n",
    "    ensure_weather_table(engine)\n",
    "    try:\n",
    "        df = pd.DataFrame([weather_data])\n",
    "        df.to_sql(\"weather\", engine, if_exists=\"append\", index=False)\n",
    "        print(f\"Weather data for {weather_data['city']} stored successfully in MySQL.\")\n",
    "    finally:\n",
    "        engine.dispose() #dispose is done to avoid garbage collection"
   ]
  },
  {
   "cell_type": "code",
   "execution_count": 16,
   "id": "1decc212-83bb-4c15-9e65-a9a773a2f08b",
   "metadata": {},
   "outputs": [],
   "source": [
    "def main():\n",
    "    weather = fetch_weather(API_KEY, CITY)\n",
    "    store_weather_to_db(weather, MYSQL_CONN_STRING)"
   ]
  },
  {
   "cell_type": "code",
   "execution_count": 31,
   "id": "d93e8ac8-f340-4fba-a993-be73add48284",
   "metadata": {},
   "outputs": [
    {
     "name": "stdout",
     "output_type": "stream",
     "text": [
      "Weather data for Mehkar stored successfully in MySQL.\n"
     ]
    }
   ],
   "source": [
    "if __name__ == \"__main__\":\n",
    "    main()"
   ]
  }
 ],
 "metadata": {
  "kernelspec": {
   "display_name": "Python 3",
   "language": "python",
   "name": "python3"
  },
  "language_info": {
   "codemirror_mode": {
    "name": "ipython",
    "version": 3
   },
   "file_extension": ".py",
   "mimetype": "text/x-python",
   "name": "python",
   "nbconvert_exporter": "python",
   "pygments_lexer": "ipython3",
   "version": "3.9.0"
  }
 },
 "nbformat": 4,
 "nbformat_minor": 5
}
